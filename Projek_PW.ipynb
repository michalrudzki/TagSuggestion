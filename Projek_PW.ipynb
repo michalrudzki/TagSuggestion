{
 "cells": [
  {
   "cell_type": "code",
   "execution_count": 1,
   "metadata": {},
   "outputs": [
    {
     "ename": "ModuleNotFoundError",
     "evalue": "No module named 'pyspark'",
     "output_type": "error",
     "traceback": [
      "\u001b[0;31m---------------------------------------------------------------------------\u001b[0m",
      "\u001b[0;31mModuleNotFoundError\u001b[0m                       Traceback (most recent call last)",
      "\u001b[0;32m<ipython-input-1-6178acd7b14f>\u001b[0m in \u001b[0;36m<module>\u001b[0;34m()\u001b[0m\n\u001b[0;32m----> 1\u001b[0;31m \u001b[0;32mimport\u001b[0m \u001b[0mpyspark\u001b[0m\u001b[0;34m\u001b[0m\u001b[0m\n\u001b[0m\u001b[1;32m      2\u001b[0m \u001b[0;32mimport\u001b[0m \u001b[0mpyspark\u001b[0m\u001b[0;34m.\u001b[0m\u001b[0msql\u001b[0m\u001b[0;34m.\u001b[0m\u001b[0mfunctions\u001b[0m \u001b[0;32mas\u001b[0m \u001b[0mfunc\u001b[0m\u001b[0;34m\u001b[0m\u001b[0m\n\u001b[1;32m      3\u001b[0m \u001b[0;31m# ('spark.executor.cores', '4'), ('spark.cores.max', '4'),\u001b[0m\u001b[0;34m\u001b[0m\u001b[0;34m\u001b[0m\u001b[0m\n\u001b[1;32m      4\u001b[0m \u001b[0mconf1\u001b[0m \u001b[0;34m=\u001b[0m \u001b[0mpyspark\u001b[0m\u001b[0;34m.\u001b[0m\u001b[0mSparkConf\u001b[0m\u001b[0;34m(\u001b[0m\u001b[0;34m)\u001b[0m\u001b[0;34m.\u001b[0m\u001b[0msetAll\u001b[0m\u001b[0;34m(\u001b[0m\u001b[0;34m[\u001b[0m\u001b[0;34m(\u001b[0m\u001b[0;34m'spark.executor.memory'\u001b[0m\u001b[0;34m,\u001b[0m \u001b[0;34m'32g'\u001b[0m\u001b[0;34m)\u001b[0m\u001b[0;34m,\u001b[0m \u001b[0;34m(\u001b[0m\u001b[0;34m'spark.driver.memory'\u001b[0m\u001b[0;34m,\u001b[0m\u001b[0;34m'32g'\u001b[0m\u001b[0;34m)\u001b[0m\u001b[0;34m,\u001b[0m\u001b[0;34m(\u001b[0m\u001b[0;34m'spark.driver.maxResultSize'\u001b[0m\u001b[0;34m,\u001b[0m\u001b[0;34m'4g'\u001b[0m\u001b[0;34m)\u001b[0m\u001b[0;34m]\u001b[0m\u001b[0;34m)\u001b[0m\u001b[0;34m\u001b[0m\u001b[0m\n\u001b[1;32m      5\u001b[0m \u001b[0;34m\u001b[0m\u001b[0m\n",
      "\u001b[0;31mModuleNotFoundError\u001b[0m: No module named 'pyspark'"
     ]
    }
   ],
   "source": [
    "import pyspark\n",
    "import pyspark.sql.functions as func\n",
    "# ('spark.executor.cores', '4'), ('spark.cores.max', '4'),\n",
    "conf1 = pyspark.SparkConf().setAll([('spark.executor.memory', '32g'), ('spark.driver.memory','32g'),('spark.driver.maxResultSize','4g')])\n",
    "\n",
    "spark = pyspark.sql.SparkSession.builder \\\n",
    "    .appName(\"SparkML\") \\\n",
    "    .config(conf=conf1) \\\n",
    "    .getOrCreate()\n",
    "sc = spark.sparkContext\n",
    "#sqlContext = pyspark.sql.SQLContext(sc)"
   ]
  },
  {
   "cell_type": "code",
   "execution_count": 3,
   "metadata": {},
   "outputs": [
    {
     "data": {
      "text/plain": [
       "[('spark.executor.memory', '32g'),\n",
       " ('spark.driver.memory', '32g'),\n",
       " ('spark.rdd.compress', 'True'),\n",
       " ('spark.app.id', 'local-1515232883863'),\n",
       " ('spark.serializer.objectStreamReset', '100'),\n",
       " ('spark.master', 'local[*]'),\n",
       " ('spark.executor.id', 'driver'),\n",
       " ('spark.driver.port', '44895'),\n",
       " ('spark.submit.deployMode', 'client'),\n",
       " ('spark.driver.host', '192.168.0.206'),\n",
       " ('spark.app.name', 'SparkML'),\n",
       " ('spark.driver.maxResultSize', '4g')]"
      ]
     },
     "execution_count": 3,
     "metadata": {},
     "output_type": "execute_result"
    }
   ],
   "source": [
    "sc.getConf().getAll()"
   ]
  },
  {
   "cell_type": "code",
   "execution_count": 4,
   "metadata": {
    "collapsed": true
   },
   "outputs": [],
   "source": [
    "from pyspark.ml import Pipeline\n",
    "from pyspark.ml.classification import LogisticRegression, DecisionTreeClassifier\n",
    "from pyspark.ml.classification import GBTClassifier, RandomForestClassifier, NaiveBayes, MultilayerPerceptronClassifier\n",
    "from pyspark.ml.feature import VectorAssembler\n",
    "from pyspark.ml.feature import CountVectorizer, HashingTF, IDF, Tokenizer\n",
    "from pyspark.ml.feature import Word2Vec, NGram\n",
    "from pyspark.ml.feature import StringIndexer\n",
    "from pyspark.ml.tuning import CrossValidator, ParamGridBuilder\n",
    "import re\n",
    "import string\n",
    "from nltk.corpus import stopwords\n",
    "from nltk.stem.snowball import SnowballStemmer\n",
    "from pyspark.sql.functions import monotonically_increasing_id\n",
    "from pyspark.ml.evaluation import MulticlassClassificationEvaluator\n",
    "from pyspark.sql.functions import when"
   ]
  },
  {
   "cell_type": "code",
   "execution_count": 5,
   "metadata": {},
   "outputs": [
    {
     "data": {
      "text/plain": [
       "['Id\\tPostTypeId\\tAcceptedAnswerId\\tCreationDate\\tScore\\tViewCount\\tBody\\tOwnerUserId\\tLastEditorUserId\\tLastEditDate\\tLastActivityDate\\tTitle\\tTags\\tAnswerCount\\tCommentCount']"
      ]
     },
     "execution_count": 5,
     "metadata": {},
     "output_type": "execute_result"
    }
   ],
   "source": [
    "rdd = sc.textFile(\"Posts.txt\")\n",
    "rdd.take(1)"
   ]
  },
  {
   "cell_type": "code",
   "execution_count": 5,
   "metadata": {},
   "outputs": [
    {
     "data": {
      "text/plain": [
       "12840"
      ]
     },
     "execution_count": 5,
     "metadata": {},
     "output_type": "execute_result"
    }
   ],
   "source": [
    "rdd.count()"
   ]
  },
  {
   "cell_type": "code",
   "execution_count": 6,
   "metadata": {},
   "outputs": [
    {
     "data": {
      "text/plain": [
       "{'</A>',\n",
       " '</B>',\n",
       " '</a>',\n",
       " '</b>',\n",
       " '</blockquote>',\n",
       " '</code>',\n",
       " '</del>',\n",
       " '</em>',\n",
       " '</h1>',\n",
       " '</h2>',\n",
       " '</h3>',\n",
       " '</i>',\n",
       " '</kbd>',\n",
       " '</li>',\n",
       " '</ol>',\n",
       " '</p>',\n",
       " '</pre>',\n",
       " '</s>',\n",
       " '</strike>',\n",
       " '</strong>',\n",
       " '</sub>',\n",
       " '</sup>',\n",
       " '</ul>',\n",
       " '<B>',\n",
       " '<BR>',\n",
       " '<Br/>',\n",
       " '<a href=\"//commons.wikimedia.org/wiki/\" rel=\"nofollow noreferrer\">',\n",
       " '<a href=\"//en.wikipedia.org/wiki/Light-year\" rel=\"nofollow\">',\n",
       " '<a href=\"//en.wikipedia.org/wiki/Moon\">',\n",
       " '<a href=\"//en.wikipedia.org/wiki/Selenography\">',\n",
       " '<a href=\"//hsm.stackexchange.com/q/5103\">',\n",
       " '<b>',\n",
       " '<blockquote>',\n",
       " '<br />',\n",
       " '<br/>',\n",
       " '<br>',\n",
       " '<code>',\n",
       " '<del>',\n",
       " '<em>',\n",
       " '<h1>',\n",
       " '<h2>',\n",
       " '<h3>',\n",
       " '<hr />',\n",
       " '<hr>',\n",
       " '<i>',\n",
       " '<kbd>',\n",
       " '<li>',\n",
       " '<ol start=\"2\">',\n",
       " '<ol start=\"3\">',\n",
       " '<ol start=\"4\">',\n",
       " '<ol start=\"5\">',\n",
       " '<ol start=\"6\">',\n",
       " '<ol start=\"7\">',\n",
       " '<ol start=\"9\">',\n",
       " '<ol>',\n",
       " '<p>',\n",
       " '<pre>',\n",
       " '<s>',\n",
       " '<strike>',\n",
       " '<strong>',\n",
       " '<sub>',\n",
       " '<sup>',\n",
       " '<ul>'}"
      ]
     },
     "execution_count": 6,
     "metadata": {},
     "output_type": "execute_result"
    }
   ],
   "source": [
    "# przygotowuje listę znaczników lokalnie aby nie wywoływac przetwarzania rozproszonego wewnatrz RDD\n",
    "# (każdy z komputerów odpytałby wszystkie komputery)\n",
    "\n",
    "dane_lok = []\n",
    "with open('Posts.txt') as posty:\n",
    "    for line in posty:\n",
    "        #print(i, line.split('\\t'))\n",
    "        dane_lok.append(line.split('\\t')[6])\n",
    "        \n",
    "lista_znacznikow = list(map(lambda linia : re.findall('[<][\\/]?[a-zA-Z0-9 \"=,.\\-\\/]+[>]',linia), dane_lok))\n",
    "zbior_znacznikow = set()\n",
    "for item in lista_znacznikow:\n",
    "    for it in item:\n",
    "        zbior_znacznikow.add(it)\n",
    "        \n",
    "zbior_znacznikow"
   ]
  },
  {
   "cell_type": "code",
   "execution_count": 7,
   "metadata": {
    "collapsed": true
   },
   "outputs": [],
   "source": [
    "stemmer = SnowballStemmer(\"english\")\n",
    "# funkcja czyszcząca tekst\n",
    "def oczysc_tresc(linia):\n",
    "    #usuwam znaczniki HTML - mogę tak zrobić ponieważ znaczniki nie są podzbiorem żadnego słowa\n",
    "    for znacznik in zbior_znacznikow:\n",
    "        linia = linia.replace(znacznik,'')\n",
    "    # znaki interpunkcyjne usuwam po usunięciu znaczników aby nie usunac znaków < > za wcześnie\n",
    "    linia = linia.translate(str.maketrans(\"\", \"\", string.punctuation))\n",
    "    # usuwam stopwords\n",
    "    filtrowane = [slowo for slowo in linia.split(' ') if slowo not in stopwords.words('english')]\n",
    "    # zamieniam słowa na ich bazową formę\n",
    "    rdzen = [stemmer.stem(slowo) for slowo in filtrowane]\n",
    "    return \" \".join(rdzen)"
   ]
  },
  {
   "cell_type": "code",
   "execution_count": 8,
   "metadata": {},
   "outputs": [
    {
     "data": {
      "text/plain": [
       "[['1',\n",
       "  '1',\n",
       "  '879',\n",
       "  '2013-09-24T18:51:54.593',\n",
       "  '28',\n",
       "  '700',\n",
       "  '<p>Suppose I would like to calculate the inclination of a satellite from the <strong>ecliptic</strong>. Would it be possible to do this with an amateur telescope? How would I go about doing so?</p><hr><p>Note: A good answer should tell what kind of telescope an amateur would need, what measurements they would need to make, then what calculations they would have to perform to get the inclination (or the \"instantaneous angular measurement from the ecliptic at the time of measurement\").</p>',\n",
       "  '6',\n",
       "  '6',\n",
       "  '2013-11-01T11:23:02.907',\n",
       "  '2014-02-03T16:49:55.200',\n",
       "  'How do I calculate the inclination of an object with an amateur telescope?',\n",
       "  '<inclination><amateur-observing>',\n",
       "  '2',\n",
       "  '0'],\n",
       " ['2',\n",
       "  '1',\n",
       "  '45',\n",
       "  '2013-09-24T18:53:25.647',\n",
       "  '15',\n",
       "  '160',\n",
       "  '<p>How are exoplanetary atmosphere compositional spectra distinguished from those of the parent star(s), from the composition of the planetary surface or any other factor?  Is it actually possible to determine the atmospheric composition precisely using this method?</p><p>Are there any specific examples of such an analysis having been performed on an exoplanet?</p>',\n",
       "  '',\n",
       "  '',\n",
       "  '',\n",
       "  '2013-09-24T20:44:49.320',\n",
       "  'How are the compositional components of exoplanet atmospheres differentiated?',\n",
       "  '<exoplanet><atmosphere>',\n",
       "  '1',\n",
       "  '1'],\n",
       " ['3',\n",
       "  '1',\n",
       "  '',\n",
       "  '2013-09-24T18:54:53.473',\n",
       "  '22',\n",
       "  '443',\n",
       "  '<p>Are there any easily resolvable, binary star, observing targets visible from ~N40°?</p><p>I\\'d like to be able to show, in one observing session, Mizar and Alcor (naked eye resolvable), another with binoculars, and finally one in a small (say, 4 to 6\" reflector) amateur scope.</p>',\n",
       "  '7',\n",
       "  '7',\n",
       "  '2013-09-24T19:00:42.437',\n",
       "  '2014-01-14T15:45:53.260',\n",
       "  'Amateur observing targets for binary star systems?',\n",
       "  '<amateur-observing><binary-star>',\n",
       "  '2',\n",
       "  '6']]"
      ]
     },
     "execution_count": 8,
     "metadata": {},
     "output_type": "execute_result"
    }
   ],
   "source": [
    "# Wybieram tylko kolumne Body - tylko wiersze będące pytaniami - przy okazji pozbywam sie pierwszego wiersza\n",
    "# oczyszczam dane ze znaczników html\n",
    "# wybieram Post type Id= 1 - to znaczy pytania - odpowiedzi mnie nie interesja\n",
    "tresc2 = rdd. \\\n",
    "    map(lambda x: x.split(\"\\t\")). \\\n",
    "    filter(lambda x : x[1] == '1')\n",
    "\n",
    "tresc2.take(3)"
   ]
  },
  {
   "cell_type": "code",
   "execution_count": 9,
   "metadata": {},
   "outputs": [
    {
     "data": {
      "text/plain": [
       "5019"
      ]
     },
     "execution_count": 9,
     "metadata": {},
     "output_type": "execute_result"
    }
   ],
   "source": [
    "tresc2.count()"
   ]
  },
  {
   "cell_type": "code",
   "execution_count": 10,
   "metadata": {},
   "outputs": [
    {
     "data": {
      "text/plain": [
       "[('suppos would like calcul inclin satellit eclipt would possibl amateur telescop would go sonot good answer tell kind telescop amateur would need measur would need make calcul would perform get inclin instantan angular measur eclipt time measur',\n",
       "  ['inclination', 'amateur-observing']),\n",
       " ('exoplanetari atmospher composit spectra distinguish parent star composit planetari surfac factor  actual possibl determin atmospher composit precis use methodar specif exampl analysi perform exoplanet',\n",
       "  ['exoplanet', 'atmosphere'])]"
      ]
     },
     "execution_count": 10,
     "metadata": {},
     "output_type": "execute_result"
    }
   ],
   "source": [
    "tresc = tresc2.map(lambda y : (oczysc_tresc(y[6].lower()),y[12].lower().replace('><', ',').replace('<','').replace('>','').split(',')))\n",
    "\n",
    "tresc.take(2)"
   ]
  },
  {
   "cell_type": "code",
   "execution_count": 12,
   "metadata": {},
   "outputs": [
    {
     "data": {
      "text/plain": [
       "[('inclination',\n",
       "  'suppos would like calcul inclin satellit eclipt would possibl amateur telescop would go sonot good answer tell kind telescop amateur would need measur would need make calcul would perform get inclin instantan angular measur eclipt time measur'),\n",
       " ('exoplanet',\n",
       "  'exoplanetari atmospher composit spectra distinguish parent star composit planetari surfac factor  actual possibl determin atmospher composit precis use methodar specif exampl analysi perform exoplanet')]"
      ]
     },
     "execution_count": 12,
     "metadata": {},
     "output_type": "execute_result"
    }
   ],
   "source": [
    "#tresc_po_tagch = tresc.flatMap(lambda x: [(w, x[0]) for w in x[1]])\n",
    "tresc_po_tagch = tresc.map(lambda x: (x[1][0], x[0]))\n",
    "tresc_po_tagch.take(2)"
   ]
  },
  {
   "cell_type": "code",
   "execution_count": 13,
   "metadata": {},
   "outputs": [
    {
     "data": {
      "text/plain": [
       "5019"
      ]
     },
     "execution_count": 13,
     "metadata": {},
     "output_type": "execute_result"
    }
   ],
   "source": [
    "tresc_po_tagch.count()"
   ]
  },
  {
   "cell_type": "code",
   "execution_count": 14,
   "metadata": {
    "collapsed": true
   },
   "outputs": [],
   "source": [
    "# oczyszczam dane i przygotowuje je do zasilenia Pipeline\n",
    "def row_from_rdd(line):\n",
    "    d = dict()\n",
    "    d['Tag'] = line[0];\n",
    "    d['Body'] = line[1];\n",
    "    return pyspark.Row(**d)"
   ]
  },
  {
   "cell_type": "code",
   "execution_count": 15,
   "metadata": {
    "collapsed": true
   },
   "outputs": [],
   "source": [
    "rows = tresc_po_tagch \\\n",
    "    .map(lambda line: row_from_rdd(line)) \n",
    "    \n",
    "# dzielę zbiór na zbiór testowy i treningowy    \n",
    "#train=sc.parallelize(rows.(5000))"
   ]
  },
  {
   "cell_type": "code",
   "execution_count": 16,
   "metadata": {},
   "outputs": [
    {
     "data": {
      "text/plain": [
       "[Row(Body='suppos would like calcul inclin satellit eclipt would possibl amateur telescop would go sonot good answer tell kind telescop amateur would need measur would need make calcul would perform get inclin instantan angular measur eclipt time measur', Tag='inclination')]"
      ]
     },
     "execution_count": 16,
     "metadata": {},
     "output_type": "execute_result"
    }
   ],
   "source": [
    "rows.take(1)"
   ]
  },
  {
   "cell_type": "code",
   "execution_count": 17,
   "metadata": {},
   "outputs": [
    {
     "name": "stdout",
     "output_type": "stream",
     "text": [
      "root\n",
      " |-- Body: string (nullable = true)\n",
      " |-- Tag: string (nullable = true)\n",
      "\n",
      "+--------------------+------------------+\n",
      "|                Body|               Tag|\n",
      "+--------------------+------------------+\n",
      "|suppos would like...|       inclination|\n",
      "|exoplanetari atmo...|         exoplanet|\n",
      "|easili resolv bin...| amateur-observing|\n",
      "|sunspot one appea...|           the-sun|\n",
      "|ive heard light c...|        black-hole|\n",
      "|equatori coordin ...|        coordinate|\n",
      "|mani movi popular...|general-relativity|\n",
      "|venus realli inho...|         exoplanet|\n",
      "|ever see side moo...|          the-moon|\n",
      "|black hole much g...|        black-hole|\n",
      "|accord hrefhttpso...|             venus|\n",
      "|refer hrefhttpsas...|        black-hole|\n",
      "|understand mass b...|        black-hole|\n",
      "|navig possibl max...|          the-moon|\n",
      "|planet uranus ano...|          rotation|\n",
      "|assum object move...|             orbit|\n",
      "|process star unde...|              star|\n",
      "|museum lviv saw p...|              star|\n",
      "|given exoplanet p...|         exoplanet|\n",
      "|possibl two star ...|              star|\n",
      "+--------------------+------------------+\n",
      "only showing top 20 rows\n",
      "\n"
     ]
    }
   ],
   "source": [
    "df = spark.createDataFrame(rows)\n",
    "df.printSchema()\n",
    "df.show()"
   ]
  },
  {
   "cell_type": "code",
   "execution_count": 18,
   "metadata": {},
   "outputs": [
    {
     "name": "stdout",
     "output_type": "stream",
     "text": [
      "+-----------------+---+\n",
      "|              Tag| il|\n",
      "+-----------------+---+\n",
      "|             star|455|\n",
      "|            orbit|269|\n",
      "|          the-sun|244|\n",
      "|         the-moon|243|\n",
      "|       black-hole|230|\n",
      "|           planet|210|\n",
      "|           galaxy|206|\n",
      "|        telescope|193|\n",
      "|          gravity|190|\n",
      "|     solar-system|186|\n",
      "|         universe|139|\n",
      "|        exoplanet|116|\n",
      "|        cosmology|108|\n",
      "|            earth| 98|\n",
      "|amateur-observing| 96|\n",
      "|      observation| 90|\n",
      "|            light| 78|\n",
      "|     astrophysics| 57|\n",
      "|        distances| 54|\n",
      "|    solar-eclipse| 54|\n",
      "+-----------------+---+\n",
      "only showing top 20 rows\n",
      "\n"
     ]
    }
   ],
   "source": [
    "# wybór tagów dla których zbuduję model - powody wydajnosciowe domowego komputera\n",
    "# tworzymy tymczasowy widok do zapytania SQL\n",
    "\n",
    "df.createTempView('forfun')\n",
    "spark.sql(\"\"\"\n",
    "SELECT Tag, count(*) as il FROM forfun \n",
    "GROUP BY Tag\n",
    "ORDER BY il desc\n",
    "\"\"\").show()\n"
   ]
  },
  {
   "cell_type": "code",
   "execution_count": 19,
   "metadata": {
    "collapsed": true
   },
   "outputs": [],
   "source": [
    "# w poszukiwaniu najlepszeo rozwiazania zdecydowalem sie ograniczyc analizowan zbiór aby przyspieszyc prace\n",
    "\n",
    "#df.where(df.Tag.isin('star')).collect()\n",
    "df = df.filter(df[\"Tag\"].isin('gravity','galaxy','telescope') )\n",
    "#'star','the-sun','planet'\n",
    "# ,'orbit','the-moon','black-hole','gravity',\n",
    "#                          'solar-system','galaxy','earth','telescope','universe','observation',\n",
    "#                         'exoplanet','amateur-observing','light','cosmology','astrophysics',\n",
    "#                          'distances','space-time'"
   ]
  },
  {
   "cell_type": "code",
   "execution_count": 20,
   "metadata": {},
   "outputs": [
    {
     "name": "stdout",
     "output_type": "stream",
     "text": [
      "root\n",
      " |-- Body: string (nullable = true)\n",
      " |-- Tag: string (nullable = true)\n",
      "\n",
      "+--------------------+---------+\n",
      "|                Body|      Tag|\n",
      "+--------------------+---------+\n",
      "|15 year old inter...|telescope|\n",
      "|accord newton gra...|  gravity|\n",
      "|altern explan rat...|   galaxy|\n",
      "|andromeda galaxi ...|  gravity|\n",
      "|andromeda galaxi ...|  gravity|\n",
      "|anomal ie predict...|  gravity|\n",
      "|appar mani reason...|telescope|\n",
      "|assum one could c...|  gravity|\n",
      "|assum rough spher...|  gravity|\n",
      "|astronomi class s...|  gravity|\n",
      "|australia russia ...|telescope|\n",
      "|becam interest as...|telescope|\n",
      "|billion year milk...|   galaxy|\n",
      "|black hole form m...|  gravity|\n",
      "|calcul escap velo...|   galaxy|\n",
      "|center milki way ...|  gravity|\n",
      "|chanc planet sola...|   galaxy|\n",
      "|colleg pose astro...|  gravity|\n",
      "|could someon give...|   galaxy|\n",
      "|curious questiont...|  gravity|\n",
      "+--------------------+---------+\n",
      "only showing top 20 rows\n",
      "\n"
     ]
    }
   ],
   "source": [
    "#Udało się wytrenować model na 3514 obserwacjach, \n",
    "#pomysł - wybrać kilka - kilkanaście tagów które w sumie są wykorzystywane przez łącznie około 4 tys pytań\n",
    "# podzielić zbiór na okolo 3k treningowego i 1k testowego\n",
    "\n",
    "train_df, test_df = df.randomSplit([0.7,0.3])\n",
    "train_df.printSchema()\n",
    "train_df.show()"
   ]
  },
  {
   "cell_type": "code",
   "execution_count": 22,
   "metadata": {},
   "outputs": [
    {
     "name": "stdout",
     "output_type": "stream",
     "text": [
      "405\n",
      "184\n"
     ]
    }
   ],
   "source": [
    "print(train_df.count())\n",
    "print(test_df.count())"
   ]
  },
  {
   "cell_type": "code",
   "execution_count": null,
   "metadata": {
    "collapsed": true
   },
   "outputs": [],
   "source": []
  },
  {
   "cell_type": "code",
   "execution_count": 91,
   "metadata": {},
   "outputs": [
    {
     "name": "stdout",
     "output_type": "stream",
     "text": [
      "Test Error = 0.181818 \n",
      "Test Accuracy = 0.818182\n"
     ]
    }
   ],
   "source": [
    "# multiclass logistic regresion - z wykorzystaniem inwersji IDF\n",
    "va = Tokenizer(inputCol='Body', outputCol='abc')\n",
    "#t = va.transform(train_df)\n",
    "#hashingTF = HashingTF(inputCol=\"abc\", outputCol=\"rawFeatures\")\n",
    "cv = CountVectorizer(inputCol=\"abc\", outputCol=\"rawFeatures\")\n",
    "idf = IDF(inputCol=\"rawFeatures\", outputCol=\"features\")\n",
    "\n",
    "#t = hashingTF.transform(t)\n",
    "indexer = StringIndexer(inputCol=\"Tag\", outputCol=\"label\")\n",
    "#t = indexer.fit(t).transform(t)\n",
    "lr = LogisticRegression(maxIter=3)\n",
    "#t.printSchema()\n",
    "p = Pipeline(stages=[va,cv,idf,indexer,lr])\n",
    "lrmodel = p.fit(train_df)\n",
    "lrpredykcje = lrmodel.transform(test_df)\n",
    "\n",
    "evaluator = MulticlassClassificationEvaluator(\n",
    "    labelCol=\"label\", predictionCol=\"prediction\", metricName=\"accuracy\")\n",
    "\n",
    "accuracy = evaluator.evaluate(lrpredykcje)\n",
    "print(\"Test Error = %g \" % (1.0 - accuracy))\n",
    "print(\"Test Accuracy = %g\" % accuracy)"
   ]
  },
  {
   "cell_type": "code",
   "execution_count": 131,
   "metadata": {},
   "outputs": [
    {
     "name": "stdout",
     "output_type": "stream",
     "text": [
      "+---------+-----+----------+-----+\n",
      "|      Tag|label|prediction|count|\n",
      "+---------+-----+----------+-----+\n",
      "|   galaxy|  0.0|       2.0|   13|\n",
      "|telescope|  1.0|       0.0|    2|\n",
      "|   galaxy|  0.0|       0.0|   45|\n",
      "|  gravity|  2.0|       2.0|   52|\n",
      "|   galaxy|  0.0|       1.0|    9|\n",
      "|  gravity|  2.0|       1.0|    5|\n",
      "|telescope|  1.0|       2.0|    1|\n",
      "|  gravity|  2.0|       0.0|    4|\n",
      "|telescope|  1.0|       1.0|   56|\n",
      "+---------+-----+----------+-----+\n",
      "\n"
     ]
    }
   ],
   "source": [
    "lrpredykcje \\\n",
    "    .groupBy('Tag','label','prediction') \\\n",
    "    .count() \\\n",
    "    .show()"
   ]
  },
  {
   "cell_type": "code",
   "execution_count": 98,
   "metadata": {},
   "outputs": [
    {
     "name": "stdout",
     "output_type": "stream",
     "text": [
      "Test Prec = 0.825552\n",
      "Test F1 = 0.814328\n",
      "Test Recall = 0.818182\n"
     ]
    }
   ],
   "source": [
    "# \"(f1|weightedPrecision|weightedRecall|accuracy)\",\n",
    "evaluator2 = MulticlassClassificationEvaluator(\n",
    "    labelCol=\"label\", predictionCol=\"prediction\", metricName=\"f1\")\n",
    "f1 = evaluator2.evaluate(lrpredykcje)\n",
    "\n",
    "evaluator3 = MulticlassClassificationEvaluator(\n",
    "    labelCol=\"label\", predictionCol=\"prediction\", metricName=\"weightedPrecision\")\n",
    "prec = evaluator3.evaluate(lrpredykcje)\n",
    "\n",
    "evaluator4 = MulticlassClassificationEvaluator(\n",
    "    labelCol=\"label\", predictionCol=\"prediction\", metricName=\"weightedRecall\")\n",
    "rec = evaluator4.evaluate(lrpredykcje)\n",
    "\n",
    "print(\"Test Prec = %g\" % prec)\n",
    "print(\"Test F1 = %g\" % f1)\n",
    "print(\"Test Recall = %g\" % rec)"
   ]
  },
  {
   "cell_type": "code",
   "execution_count": 136,
   "metadata": {
    "collapsed": true
   },
   "outputs": [],
   "source": [
    "va = Tokenizer(inputCol='Body', outputCol='abc')\n",
    "cv = CountVectorizer(inputCol=\"abc\", outputCol=\"rawFeatures\")\n",
    "idf = IDF(inputCol=\"rawFeatures\", outputCol=\"features\")\n",
    "indexer = StringIndexer(inputCol=\"Tag\", outputCol=\"label\")\n",
    "dt = DecisionTreeClassifier()\n",
    "p = Pipeline(stages=[va,cv,idf,indexer,dt])"
   ]
  },
  {
   "cell_type": "code",
   "execution_count": 137,
   "metadata": {
    "collapsed": true
   },
   "outputs": [],
   "source": [
    "evaluator = MulticlassClassificationEvaluator(\n",
    "    labelCol=\"label\", predictionCol=\"prediction\", metricName=\"accuracy\")\n",
    "\n",
    "evaluator2 = MulticlassClassificationEvaluator(\n",
    "    labelCol=\"label\", predictionCol=\"prediction\", metricName=\"f1\")\n",
    "\n",
    "evaluator3 = MulticlassClassificationEvaluator(\n",
    "    labelCol=\"label\", predictionCol=\"prediction\", metricName=\"weightedPrecision\")\n",
    "\n",
    "evaluator4 = MulticlassClassificationEvaluator(\n",
    "    labelCol=\"label\", predictionCol=\"prediction\", metricName=\"weightedRecall\")"
   ]
  },
  {
   "cell_type": "code",
   "execution_count": null,
   "metadata": {
    "collapsed": true
   },
   "outputs": [],
   "source": [
    "dtmodel = p.fit(train_df)\n",
    "dtpredykcje = dtmodel.transform(test_df)"
   ]
  },
  {
   "cell_type": "code",
   "execution_count": 133,
   "metadata": {},
   "outputs": [
    {
     "data": {
      "text/plain": [
       "DecisionTreeClassifier_405fbad7d41c2f87fe90"
      ]
     },
     "execution_count": 133,
     "metadata": {},
     "output_type": "execute_result"
    }
   ],
   "source": [
    "accuracy = evaluator.evaluate(dtpredykcje)\n",
    "f1 = evaluator2.evaluate(dtpredykcje)\n",
    "prec = evaluator3.evaluate(dtpredykcje)\n",
    "rec = evaluator4.evaluate(dtpredykcje)\n",
    "\n",
    "print(\"Test Error = %g \" % (1.0 - accuracy))\n",
    "print(\"Test Accuracy = %g\" % accuracy)\n",
    "print(\"Test Prec = %g\" % prec)\n",
    "print(\"Test F1 = %g\" % f1)\n",
    "print(\"Test Recall = %g\" % rec)"
   ]
  },
  {
   "cell_type": "code",
   "execution_count": 158,
   "metadata": {
    "collapsed": true
   },
   "outputs": [],
   "source": [
    "va = Tokenizer(inputCol='Body', outputCol='abc')\n",
    "cv = CountVectorizer(inputCol=\"abc\", outputCol=\"rawFeatures\")\n",
    "idf = IDF(inputCol=\"rawFeatures\", outputCol=\"features\")\n",
    "indexer = StringIndexer(inputCol=\"Tag\", outputCol=\"label\")\n",
    "dt = DecisionTreeClassifier(maxDepth=7)\n",
    "p = Pipeline(stages=[va,cv,idf,indexer,dt])"
   ]
  },
  {
   "cell_type": "code",
   "execution_count": 244,
   "metadata": {
    "collapsed": true
   },
   "outputs": [],
   "source": [
    "dtmodel = p.fit(train_df)\n",
    "dtpredykcje = dtmodel.transform(test_df)"
   ]
  },
  {
   "cell_type": "code",
   "execution_count": 161,
   "metadata": {},
   "outputs": [
    {
     "name": "stdout",
     "output_type": "stream",
     "text": [
      "+---------+-----+----------+-----+\n",
      "|      Tag|label|prediction|count|\n",
      "+---------+-----+----------+-----+\n",
      "|   galaxy|  0.0|       2.0|    7|\n",
      "|telescope|  1.0|       0.0|    1|\n",
      "|   galaxy|  0.0|       0.0|   57|\n",
      "|  gravity|  2.0|       2.0|   59|\n",
      "|   galaxy|  0.0|       1.0|    3|\n",
      "|  gravity|  2.0|       1.0|    1|\n",
      "|telescope|  1.0|       2.0|   12|\n",
      "|  gravity|  2.0|       0.0|    1|\n",
      "|telescope|  1.0|       1.0|   46|\n",
      "+---------+-----+----------+-----+\n",
      "\n"
     ]
    }
   ],
   "source": [
    "dtpredykcje \\\n",
    "    .groupBy('Tag','label','prediction') \\\n",
    "    .count() \\\n",
    "    .show()"
   ]
  },
  {
   "cell_type": "code",
   "execution_count": 160,
   "metadata": {},
   "outputs": [
    {
     "name": "stdout",
     "output_type": "stream",
     "text": [
      "Test Error = 0.13369 \n",
      "Test Accuracy = 0.86631\n",
      "Test Prec = 0.883154\n",
      "Test F1 = 0.867387\n",
      "Test Recall = 0.86631\n"
     ]
    }
   ],
   "source": [
    "accuracy = evaluator.evaluate(dtpredykcje)\n",
    "f1 = evaluator2.evaluate(dtpredykcje)\n",
    "prec = evaluator3.evaluate(dtpredykcje)\n",
    "rec = evaluator4.evaluate(dtpredykcje)\n",
    "\n",
    "print(\"Test Error = %g \" % (1.0 - accuracy))\n",
    "print(\"Test Accuracy = %g\" % accuracy)\n",
    "print(\"Test Prec = %g\" % prec)\n",
    "print(\"Test F1 = %g\" % f1)\n",
    "print(\"Test Recall = %g\" % rec)"
   ]
  },
  {
   "cell_type": "code",
   "execution_count": 260,
   "metadata": {
    "collapsed": true
   },
   "outputs": [],
   "source": [
    "va = Tokenizer(inputCol='Body', outputCol='abc')\n",
    "cv = CountVectorizer(inputCol=\"abc\", outputCol=\"rawFeatures\")\n",
    "idf = IDF(inputCol=\"rawFeatures\", outputCol=\"features\")\n",
    "indexer = StringIndexer(inputCol=\"Tag\", outputCol=\"label\")\n",
    "dt = DecisionTreeClassifier(maxDepth=6)\n",
    "p = Pipeline(stages=[va,cv,idf,indexer,dt])\n",
    "\n",
    "dtmodel10 = p.fit(train_df)\n",
    "dtpredykcje10 = dtmodel10.transform(test_df)"
   ]
  },
  {
   "cell_type": "code",
   "execution_count": 261,
   "metadata": {},
   "outputs": [
    {
     "name": "stdout",
     "output_type": "stream",
     "text": [
      "+---------+-----+----------+-----+\n",
      "|      Tag|label|prediction|count|\n",
      "+---------+-----+----------+-----+\n",
      "|   galaxy|  0.0|       2.0|    9|\n",
      "|telescope|  1.0|       0.0|    1|\n",
      "|   galaxy|  0.0|       0.0|   55|\n",
      "|  gravity|  2.0|       2.0|   59|\n",
      "|   galaxy|  0.0|       1.0|    3|\n",
      "|  gravity|  2.0|       1.0|    1|\n",
      "|telescope|  1.0|       2.0|   12|\n",
      "|  gravity|  2.0|       0.0|    1|\n",
      "|telescope|  1.0|       1.0|   46|\n",
      "+---------+-----+----------+-----+\n",
      "\n"
     ]
    }
   ],
   "source": [
    "dtpredykcje10 \\\n",
    "    .groupBy('Tag','label','prediction') \\\n",
    "    .count() \\\n",
    "    .show()"
   ]
  },
  {
   "cell_type": "code",
   "execution_count": 262,
   "metadata": {},
   "outputs": [
    {
     "name": "stdout",
     "output_type": "stream",
     "text": [
      "Test Error = 0.144385 \n",
      "Test Accuracy = 0.855615\n",
      "Test Prec = 0.876559\n",
      "Test F1 = 0.85713\n",
      "Test Recall = 0.855615\n"
     ]
    }
   ],
   "source": [
    "accuracy = evaluator.evaluate(dtpredykcje10)\n",
    "f1 = evaluator2.evaluate(dtpredykcje10)\n",
    "prec = evaluator3.evaluate(dtpredykcje10)\n",
    "rec = evaluator4.evaluate(dtpredykcje10)\n",
    "\n",
    "print(\"Test Error = %g \" % (1.0 - accuracy))\n",
    "print(\"Test Accuracy = %g\" % accuracy)\n",
    "print(\"Test Prec = %g\" % prec)\n",
    "print(\"Test F1 = %g\" % f1)\n",
    "print(\"Test Recall = %g\" % rec)"
   ]
  },
  {
   "cell_type": "code",
   "execution_count": null,
   "metadata": {
    "collapsed": true
   },
   "outputs": [],
   "source": []
  },
  {
   "cell_type": "code",
   "execution_count": null,
   "metadata": {
    "collapsed": true
   },
   "outputs": [],
   "source": []
  },
  {
   "cell_type": "code",
   "execution_count": null,
   "metadata": {
    "collapsed": true
   },
   "outputs": [],
   "source": []
  },
  {
   "cell_type": "code",
   "execution_count": null,
   "metadata": {
    "collapsed": true
   },
   "outputs": [],
   "source": []
  },
  {
   "cell_type": "code",
   "execution_count": null,
   "metadata": {
    "collapsed": true
   },
   "outputs": [],
   "source": []
  },
  {
   "cell_type": "code",
   "execution_count": 294,
   "metadata": {
    "collapsed": true
   },
   "outputs": [],
   "source": [
    "pdDepth6 = dtpredykcje10.toPandas()"
   ]
  },
  {
   "cell_type": "code",
   "execution_count": 299,
   "metadata": {
    "collapsed": true
   },
   "outputs": [],
   "source": [
    "lab = label_binarize(pdDepth6['label'].values, classes=[0, 1, 2])\n",
    "pred = label_binarize(pdDepth6['prediction'].values, classes=[0, 1, 2])\n",
    "n_classes = lab.shape[1]"
   ]
  },
  {
   "cell_type": "code",
   "execution_count": 304,
   "metadata": {},
   "outputs": [
    {
     "name": "stdout",
     "output_type": "stream",
     "text": [
      "0.902114427861\n",
      "0.874205508475\n",
      "0.900273224044\n"
     ]
    }
   ],
   "source": [
    "import numpy as np\n",
    "import matplotlib.pyplot as plt\n",
    "from itertools import cycle\n",
    "\n",
    "from sklearn import svm, datasets\n",
    "from sklearn.metrics import roc_curve, auc\n",
    "from sklearn.model_selection import train_test_split\n",
    "from sklearn.preprocessing import label_binarize\n",
    "from sklearn.multiclass import OneVsRestClassifier\n",
    "from scipy import interp\n",
    "\n",
    "lab = label_binarize(pdDepth6['label'].values, classes=[0, 1, 2])\n",
    "pred = label_binarize(pdDepth6['prediction'].values, classes=[0, 1, 2])\n",
    "n_classes = lab.shape[1]\n",
    "\n",
    "\n",
    "# Compute ROC curve and ROC area for each class\n",
    "fpr = dict()\n",
    "tpr = dict()\n",
    "roc_auc = dict()\n",
    "for i in range(n_classes):\n",
    "    fpr[i], tpr[i], _ = roc_curve(lab[:, i], pred[:, i])\n",
    "    roc_auc[i] = auc(fpr[i], tpr[i])\n",
    "    print(roc_auc[i])\n",
    "    \n",
    "# Compute micro-average ROC curve and ROC area\n",
    "fpr[\"micro\"], tpr[\"micro\"], _ = roc_curve(lab.ravel(), pred.ravel())\n",
    "roc_auc[\"micro\"] = auc(fpr[\"micro\"], tpr[\"micro\"])"
   ]
  },
  {
   "cell_type": "code",
   "execution_count": 305,
   "metadata": {},
   "outputs": [
    {
     "data": {
      "text/plain": [
       "<matplotlib.figure.Figure at 0x7fa9c4a021d0>"
      ]
     },
     "metadata": {},
     "output_type": "display_data"
    },
    {
     "data": {
      "image/png": "[encoded data removed]",
      "text/plain": [
       "<matplotlib.figure.Figure at 0x7fa9c5d74ac8>"
      ]
     },
     "metadata": {},
     "output_type": "display_data"
    }
   ],
   "source": [
    "all_fpr = np.unique(np.concatenate([fpr[i] for i in range(n_classes)]))\n",
    "\n",
    "# Then interpolate all ROC curves at this points\n",
    "mean_tpr = np.zeros_like(all_fpr)\n",
    "for i in range(n_classes):\n",
    "    mean_tpr += interp(all_fpr, fpr[i], tpr[i])\n",
    "\n",
    "# Finally average it and compute AUC\n",
    "mean_tpr /= n_classes\n",
    "\n",
    "fpr[\"macro\"] = all_fpr\n",
    "tpr[\"macro\"] = mean_tpr\n",
    "roc_auc[\"macro\"] = auc(fpr[\"macro\"], tpr[\"macro\"])\n",
    "\n",
    "# Plot all ROC curves\n",
    "plt.figure()\n",
    "plt.plot(fpr[\"micro\"], tpr[\"micro\"],\n",
    "         label='micro-average ROC curve (area = {0:0.2f})'\n",
    "               ''.format(roc_auc[\"micro\"]),\n",
    "         color='deeppink', linestyle=':', linewidth=4)\n",
    "\n",
    "plt.plot(fpr[\"macro\"], tpr[\"macro\"],\n",
    "         label='macro-average ROC curve (area = {0:0.2f})'\n",
    "               ''.format(roc_auc[\"macro\"]),\n",
    "         color='navy', linestyle=':', linewidth=4)\n",
    "\n",
    "colors = cycle(['aqua', 'darkorange', 'cornflowerblue'])\n",
    "for i, color in zip(range(n_classes), colors):\n",
    "    plt.plot(fpr[i], tpr[i], color=color, lw=lw,\n",
    "             label='ROC curve of class {0} (area = {1:0.2f})'\n",
    "             ''.format(i, roc_auc[i]))\n",
    "\n",
    "plt.plot([0, 1], [0, 1], 'k--', lw=lw)\n",
    "plt.xlim([0.0, 1.0])\n",
    "plt.ylim([0.0, 1.05])\n",
    "plt.xlabel('False Positive Rate')\n",
    "plt.ylabel('True Positive Rate')\n",
    "plt.title('Some extension of Receiver operating characteristic to multi-class')\n",
    "plt.legend(loc=\"lower right\")\n",
    "plt.show()"
   ]
  },
  {
   "cell_type": "code",
   "execution_count": 306,
   "metadata": {
    "collapsed": true
   },
   "outputs": [],
   "source": [
    "pdDepth7 = dtpredykcje.toPandas()\n",
    "lab = label_binarize(pdDepth7['label'].values, classes=[0, 1, 2])\n",
    "pred = label_binarize(pdDepth7['prediction'].values, classes=[0, 1, 2])\n",
    "n_classes = lab.shape[1]"
   ]
  },
  {
   "cell_type": "code",
   "execution_count": 309,
   "metadata": {},
   "outputs": [
    {
     "name": "stdout",
     "output_type": "stream",
     "text": [
      "0.917039800995\n",
      "0.874205508475\n",
      "0.90820973198\n"
     ]
    }
   ],
   "source": [
    "import numpy as np\n",
    "import matplotlib.pyplot as plt\n",
    "from itertools import cycle\n",
    "\n",
    "from sklearn import svm, datasets\n",
    "from sklearn.metrics import roc_curve, auc\n",
    "from sklearn.model_selection import train_test_split\n",
    "from sklearn.preprocessing import label_binarize\n",
    "from sklearn.multiclass import OneVsRestClassifier\n",
    "from scipy import interp\n",
    "\n",
    "lab = label_binarize(pdDepth7['label'].values, classes=[0, 1, 2])\n",
    "pred = label_binarize(pdDepth7['prediction'].values, classes=[0, 1, 2])\n",
    "n_classes = lab.shape[1]\n",
    "\n",
    "\n",
    "# Compute ROC curve and ROC area for each class\n",
    "fpr = dict()\n",
    "tpr = dict()\n",
    "roc_auc = dict()\n",
    "for i in range(n_classes):\n",
    "    fpr[i], tpr[i], _ = roc_curve(lab[:, i], pred[:, i])\n",
    "    roc_auc[i] = auc(fpr[i], tpr[i])\n",
    "    print(roc_auc[i])\n",
    "    \n",
    "# Compute micro-average ROC curve and ROC area\n",
    "fpr[\"micro\"], tpr[\"micro\"], _ = roc_curve(lab.ravel(), pred.ravel())\n",
    "roc_auc[\"micro\"] = auc(fpr[\"micro\"], tpr[\"micro\"])"
   ]
  },
  {
   "cell_type": "code",
   "execution_count": 310,
   "metadata": {},
   "outputs": [
    {
     "data": {
      "image/png": "[encoded data removed]",
      "text/plain": [
       "<matplotlib.figure.Figure at 0x7fa9bb78c208>"
      ]
     },
     "metadata": {},
     "output_type": "display_data"
    }
   ],
   "source": [
    "all_fpr = np.unique(np.concatenate([fpr[i] for i in range(n_classes)]))\n",
    "\n",
    "# Then interpolate all ROC curves at this points\n",
    "mean_tpr = np.zeros_like(all_fpr)\n",
    "for i in range(n_classes):\n",
    "    mean_tpr += interp(all_fpr, fpr[i], tpr[i])\n",
    "\n",
    "# Finally average it and compute AUC\n",
    "mean_tpr /= n_classes\n",
    "\n",
    "fpr[\"macro\"] = all_fpr\n",
    "tpr[\"macro\"] = mean_tpr\n",
    "roc_auc[\"macro\"] = auc(fpr[\"macro\"], tpr[\"macro\"])\n",
    "\n",
    "# Plot all ROC curves\n",
    "plt.figure()\n",
    "plt.plot(fpr[\"micro\"], tpr[\"micro\"],\n",
    "         label='micro-average ROC curve (area = {0:0.2f})'\n",
    "               ''.format(roc_auc[\"micro\"]),\n",
    "         color='deeppink', linestyle=':', linewidth=4)\n",
    "\n",
    "plt.plot(fpr[\"macro\"], tpr[\"macro\"],\n",
    "         label='macro-average ROC curve (area = {0:0.2f})'\n",
    "               ''.format(roc_auc[\"macro\"]),\n",
    "         color='navy', linestyle=':', linewidth=4)\n",
    "\n",
    "colors = cycle(['aqua', 'darkorange', 'cornflowerblue'])\n",
    "for i, color in zip(range(n_classes), colors):\n",
    "    plt.plot(fpr[i], tpr[i], color=color, lw=lw,\n",
    "             label='ROC curve of class {0} (area = {1:0.2f})'\n",
    "             ''.format(i, roc_auc[i]))\n",
    "\n",
    "plt.plot([0, 1], [0, 1], 'k--', lw=lw)\n",
    "plt.xlim([0.0, 1.0])\n",
    "plt.ylim([0.0, 1.05])\n",
    "plt.xlabel('False Positive Rate')\n",
    "plt.ylabel('True Positive Rate')\n",
    "plt.title('Some extension of Receiver operating characteristic to multi-class')\n",
    "plt.legend(loc=\"lower right\")\n",
    "plt.show()"
   ]
  },
  {
   "cell_type": "code",
   "execution_count": null,
   "metadata": {
    "collapsed": true
   },
   "outputs": [],
   "source": []
  },
  {
   "cell_type": "code",
   "execution_count": null,
   "metadata": {
    "collapsed": true
   },
   "outputs": [],
   "source": []
  },
  {
   "cell_type": "code",
   "execution_count": null,
   "metadata": {
    "collapsed": true
   },
   "outputs": [],
   "source": []
  },
  {
   "cell_type": "code",
   "execution_count": null,
   "metadata": {
    "collapsed": true
   },
   "outputs": [],
   "source": []
  },
  {
   "cell_type": "code",
   "execution_count": null,
   "metadata": {
    "collapsed": true
   },
   "outputs": [],
   "source": []
  },
  {
   "cell_type": "code",
   "execution_count": null,
   "metadata": {
    "collapsed": true
   },
   "outputs": [],
   "source": []
  },
  {
   "cell_type": "code",
   "execution_count": null,
   "metadata": {
    "collapsed": true
   },
   "outputs": [],
   "source": []
  },
  {
   "cell_type": "code",
   "execution_count": null,
   "metadata": {
    "collapsed": true
   },
   "outputs": [],
   "source": []
  },
  {
   "cell_type": "code",
   "execution_count": null,
   "metadata": {
    "collapsed": true
   },
   "outputs": [],
   "source": [
    "va = Tokenizer(inputCol='Body', outputCol='abc')\n",
    "#hashingTF oszczędza miejsce i czas przetwarzania (tylko jeden przebieg)\n",
    "#nie ustalam sztywno ilości cech \"numFeatures\" - chcę wykorzystać wszystkie słowa\n",
    "cv = CountVectorizer(inputCol=\"abc\", outputCol=\"rawFeatures\")\n",
    "idf = IDF(inputCol=\"rawFeatures\", outputCol=\"features\")\n",
    "\n",
    "indexer = StringIndexer(inputCol=\"Tag\", outputCol=\"label\")\n",
    "#lr = LogisticRegression(maxIter=3)\n",
    "dt = DecisionTreeClassifier()\n",
    "p = Pipeline(stages=[va,cv,idf,indexer,dt])\n",
    "\n",
    "paramGrid = ParamGridBuilder() \\\n",
    "    .addGrid(lr.regParam, [0.0, 0.01]) \\\n",
    "    .addGrid(lr.elasticNetParam, [0.0, 0.01]) \\\n",
    "    .build()\n",
    "    \n",
    "crossval = CrossValidator(estimator=p,\n",
    "                          estimatorParamMaps=paramGrid,\n",
    "                          evaluator=MulticlassClassificationEvaluator(labelCol=\"label\", predictionCol=\"prediction\", metricName=\"accuracy\"),\n",
    "                          numFolds=3) \n",
    "\n",
    "ldtModelCV = crossval.fit(train_df)"
   ]
  },
  {
   "cell_type": "code",
   "execution_count": 128,
   "metadata": {},
   "outputs": [
    {
     "name": "stdout",
     "output_type": "stream",
     "text": [
      "+---------+-----+----------+-----+\n",
      "|      Tag|label|prediction|count|\n",
      "+---------+-----+----------+-----+\n",
      "|   galaxy|  0.0|       2.0|    9|\n",
      "|telescope|  1.0|       0.0|    1|\n",
      "|   galaxy|  0.0|       0.0|   55|\n",
      "|  gravity|  2.0|       2.0|   60|\n",
      "|   galaxy|  0.0|       1.0|    3|\n",
      "|telescope|  1.0|       2.0|   13|\n",
      "|  gravity|  2.0|       0.0|    1|\n",
      "|telescope|  1.0|       1.0|   45|\n",
      "+---------+-----+----------+-----+\n",
      "\n"
     ]
    }
   ],
   "source": [
    "#.withColumn('wyn', when(dtpredykcje.label == dtpredykcje.prediction,1).otherwise(0)) \\\n",
    "\n",
    "dtpredykcje \\\n",
    "    .groupBy('Tag','label','prediction') \\\n",
    "    .count() \\\n",
    "    .show()"
   ]
  },
  {
   "cell_type": "code",
   "execution_count": 85,
   "metadata": {},
   "outputs": [
    {
     "name": "stdout",
     "output_type": "stream",
     "text": [
      "Test Error = 0.165775 \n",
      "Test Accuracy = 0.834225\n"
     ]
    }
   ],
   "source": [
    "nb = NaiveBayes(modelType=\"multinomial\")\n",
    "p = Pipeline(stages=[va,cv,idf,indexer,nb])\n",
    "nbmodel = p.fit(train_df)\n",
    "nbpredykcje = nbmodel.transform(test_df)\n",
    "\n",
    "evaluator = MulticlassClassificationEvaluator(\n",
    "    labelCol=\"label\", predictionCol=\"prediction\", metricName=\"accuracy\")\n",
    "\n",
    "accuracy = evaluator.evaluate(nbpredykcje)\n",
    "print(\"Test Error = %g \" % (1.0 - accuracy))\n",
    "print(\"Test Accuracy = %g\" % accuracy)"
   ]
  },
  {
   "cell_type": "code",
   "execution_count": 129,
   "metadata": {},
   "outputs": [
    {
     "name": "stdout",
     "output_type": "stream",
     "text": [
      "+---------+-----+----------+-----+\n",
      "|      Tag|label|prediction|count|\n",
      "+---------+-----+----------+-----+\n",
      "|   galaxy|  0.0|       2.0|   16|\n",
      "|telescope|  1.0|       0.0|    5|\n",
      "|   galaxy|  0.0|       0.0|   48|\n",
      "|  gravity|  2.0|       2.0|   55|\n",
      "|   galaxy|  0.0|       1.0|    3|\n",
      "|  gravity|  2.0|       1.0|    1|\n",
      "|telescope|  1.0|       2.0|    1|\n",
      "|  gravity|  2.0|       0.0|    5|\n",
      "|telescope|  1.0|       1.0|   53|\n",
      "+---------+-----+----------+-----+\n",
      "\n"
     ]
    }
   ],
   "source": [
    "nbpredykcje \\\n",
    "    .groupBy('Tag','label','prediction') \\\n",
    "    .count() \\\n",
    "    .show()"
   ]
  },
  {
   "cell_type": "code",
   "execution_count": 100,
   "metadata": {},
   "outputs": [
    {
     "name": "stdout",
     "output_type": "stream",
     "text": [
      "Test Prec = 0.839065\n",
      "Test F1 = 0.833267\n",
      "Test Recall = 0.834225\n"
     ]
    }
   ],
   "source": [
    "evaluator2 = MulticlassClassificationEvaluator(\n",
    "    labelCol=\"label\", predictionCol=\"prediction\", metricName=\"f1\")\n",
    "f1 = evaluator2.evaluate(nbpredykcje)\n",
    "\n",
    "evaluator3 = MulticlassClassificationEvaluator(\n",
    "    labelCol=\"label\", predictionCol=\"prediction\", metricName=\"weightedPrecision\")\n",
    "prec = evaluator3.evaluate(nbpredykcje)\n",
    "\n",
    "evaluator4 = MulticlassClassificationEvaluator(\n",
    "    labelCol=\"label\", predictionCol=\"prediction\", metricName=\"weightedRecall\")\n",
    "rec = evaluator4.evaluate(nbpredykcje)\n",
    "\n",
    "print(\"Test Prec = %g\" % prec)\n",
    "print(\"Test F1 = %g\" % f1)\n",
    "print(\"Test Recall = %g\" % rec)"
   ]
  },
  {
   "cell_type": "code",
   "execution_count": 86,
   "metadata": {},
   "outputs": [
    {
     "name": "stdout",
     "output_type": "stream",
     "text": [
      "Test Error = 0.240642 \n",
      "Test Accuracy = 0.759358\n"
     ]
    }
   ],
   "source": [
    "rf = RandomForestClassifier()\n",
    "p = Pipeline(stages=[va,cv,idf,indexer,rf])\n",
    "rfmodel = p.fit(train_df)\n",
    "rfpredykcje = rfmodel.transform(test_df)\n",
    "\n",
    "evaluator = MulticlassClassificationEvaluator(\n",
    "    labelCol=\"label\", predictionCol=\"prediction\", metricName=\"accuracy\")\n",
    "\n",
    "accuracy = evaluator.evaluate(rfpredykcje)\n",
    "print(\"Test Error = %g \" % (1.0 - accuracy))\n",
    "print(\"Test Accuracy = %g\" % accuracy)"
   ]
  },
  {
   "cell_type": "code",
   "execution_count": 130,
   "metadata": {},
   "outputs": [
    {
     "name": "stdout",
     "output_type": "stream",
     "text": [
      "+---------+-----+----------+-----+\n",
      "|      Tag|label|prediction|count|\n",
      "+---------+-----+----------+-----+\n",
      "|   galaxy|  0.0|       2.0|    6|\n",
      "|telescope|  1.0|       0.0|   10|\n",
      "|   galaxy|  0.0|       0.0|   51|\n",
      "|  gravity|  2.0|       2.0|   45|\n",
      "|   galaxy|  0.0|       1.0|   10|\n",
      "|  gravity|  2.0|       1.0|    1|\n",
      "|telescope|  1.0|       2.0|    3|\n",
      "|  gravity|  2.0|       0.0|   15|\n",
      "|telescope|  1.0|       1.0|   46|\n",
      "+---------+-----+----------+-----+\n",
      "\n"
     ]
    }
   ],
   "source": [
    "rfpredykcje \\\n",
    "    .groupBy('Tag','label','prediction') \\\n",
    "    .count() \\\n",
    "    .show()"
   ]
  },
  {
   "cell_type": "code",
   "execution_count": 101,
   "metadata": {},
   "outputs": [
    {
     "name": "stdout",
     "output_type": "stream",
     "text": [
      "Test Prec = 0.766887\n",
      "Test F1 = 0.761083\n",
      "Test Recall = 0.759358\n"
     ]
    }
   ],
   "source": [
    "evaluator2 = MulticlassClassificationEvaluator(\n",
    "    labelCol=\"label\", predictionCol=\"prediction\", metricName=\"f1\")\n",
    "f1 = evaluator2.evaluate(rfpredykcje)\n",
    "\n",
    "evaluator3 = MulticlassClassificationEvaluator(\n",
    "    labelCol=\"label\", predictionCol=\"prediction\", metricName=\"weightedPrecision\")\n",
    "prec = evaluator3.evaluate(rfpredykcje)\n",
    "\n",
    "evaluator4 = MulticlassClassificationEvaluator(\n",
    "    labelCol=\"label\", predictionCol=\"prediction\", metricName=\"weightedRecall\")\n",
    "rec = evaluator4.evaluate(rfpredykcje)\n",
    "\n",
    "print(\"Test Prec = %g\" % prec)\n",
    "print(\"Test F1 = %g\" % f1)\n",
    "print(\"Test Recall = %g\" % rec)"
   ]
  },
  {
   "cell_type": "code",
   "execution_count": null,
   "metadata": {
    "collapsed": true
   },
   "outputs": [],
   "source": []
  },
  {
   "cell_type": "code",
   "execution_count": null,
   "metadata": {
    "collapsed": true
   },
   "outputs": [],
   "source": []
  },
  {
   "cell_type": "code",
   "execution_count": null,
   "metadata": {
    "collapsed": true
   },
   "outputs": [],
   "source": []
  },
  {
   "cell_type": "code",
   "execution_count": null,
   "metadata": {
    "collapsed": true
   },
   "outputs": [],
   "source": []
  },
  {
   "cell_type": "code",
   "execution_count": null,
   "metadata": {
    "collapsed": true
   },
   "outputs": [],
   "source": []
  },
  {
   "cell_type": "code",
   "execution_count": null,
   "metadata": {
    "collapsed": true
   },
   "outputs": [],
   "source": []
  },
  {
   "cell_type": "code",
   "execution_count": null,
   "metadata": {
    "collapsed": true
   },
   "outputs": [],
   "source": []
  },
  {
   "cell_type": "code",
   "execution_count": null,
   "metadata": {
    "collapsed": true
   },
   "outputs": [],
   "source": []
  },
  {
   "cell_type": "code",
   "execution_count": 23,
   "metadata": {},
   "outputs": [
    {
     "name": "stdout",
     "output_type": "stream",
     "text": [
      "Test Error = 0.021978 \n",
      "Test Accuracy = 0.978022\n"
     ]
    }
   ],
   "source": [
    "# multiclass logistic regresion\n",
    "va = Tokenizer(inputCol='Body', outputCol='abc')\n",
    "#t = va.transform(train_df)\n",
    "hashingTF = HashingTF(inputCol=\"abc\", outputCol=\"features\")\n",
    "#t = hashingTF.transform(t)\n",
    "indexer = StringIndexer(inputCol=\"Tag\", outputCol=\"label\")\n",
    "#t = indexer.fit(t).transform(t)\n",
    "lr = LogisticRegression(maxIter=3)\n",
    "#t.printSchema()\n",
    "p = Pipeline(stages=[va,hashingTF,indexer,lr])\n",
    "lrmodel = p.fit(train_df)\n",
    "predykcje = lrmodel.transform(train_df)\n",
    "\n",
    "evaluator = MulticlassClassificationEvaluator(\n",
    "    labelCol=\"label\", predictionCol=\"prediction\", metricName=\"accuracy\")\n",
    "\n",
    "accuracy = evaluator.evaluate(predykcje)\n",
    "print(\"Test Error = %g \" % (1.0 - accuracy))\n",
    "print(\"Test Accuracy = %g\" % accuracy)"
   ]
  },
  {
   "cell_type": "code",
   "execution_count": 57,
   "metadata": {
    "collapsed": true
   },
   "outputs": [],
   "source": [
    "# multiclass logistic regresion\n",
    "va = Tokenizer(inputCol='Body', outputCol='abc')\n",
    "#hashingTF oszczędza miejsce i czas przetwarzania (tylko jeden przebieg)\n",
    "#nie ustalam sztywno ilości cech \"numFeatures\" - chcę wykorzystać wszystkie słowa\n",
    "cv = CountVectorizer(inputCol=\"abc\", outputCol=\"rawFeatures\")\n",
    "idf = IDF(inputCol=\"rawFeatures\", outputCol=\"features\")\n",
    "\n",
    "indexer = StringIndexer(inputCol=\"Tag\", outputCol=\"label\")\n",
    "lr = LogisticRegression(maxIter=3)\n",
    "p = Pipeline(stages=[va,cv,idf,indexer,lr])\n",
    "\n",
    "paramGrid = ParamGridBuilder() \\\n",
    "    .addGrid(lr.regParam, [0.0, 0.01]) \\\n",
    "    .addGrid(lr.elasticNetParam, [0.0, 0.01]) \\\n",
    "    .build()\n",
    "    \n",
    "crossval = CrossValidator(estimator=p,\n",
    "                          estimatorParamMaps=paramGrid,\n",
    "                          evaluator=MulticlassClassificationEvaluator(labelCol=\"label\", predictionCol=\"prediction\", metricName=\"accuracy\"),\n",
    "                          numFolds=2) \n",
    "\n",
    "lrModel = crossval.fit(train_df)\n",
    "\n",
    "#lrmodel = p.fit(train_df)\n",
    "#predykcje = lrmodel.transform(train_df)\n",
    "\n",
    "#evaluator = MulticlassClassificationEvaluator(\n",
    "#    labelCol=\"label\", predictionCol=\"prediction\", metricName=\"accuracy\")\n",
    "\n",
    "#accuracy = evaluator.evaluate(predykcje)\n",
    "#print(\"Test Error = %g \" % (1.0 - accuracy))\n",
    "#print(\"Test Accuracy = %g\" % accuracy)"
   ]
  },
  {
   "cell_type": "code",
   "execution_count": 59,
   "metadata": {},
   "outputs": [
    {
     "data": {
      "text/plain": [
       "0.7488584474885844"
      ]
     },
     "execution_count": 59,
     "metadata": {},
     "output_type": "execute_result"
    }
   ],
   "source": [
    "accuracy = evaluator.evaluate(prediction)\n",
    "accuracy"
   ]
  },
  {
   "cell_type": "code",
   "execution_count": 60,
   "metadata": {},
   "outputs": [
    {
     "name": "stdout",
     "output_type": "stream",
     "text": [
      "Test Error = 0.251142 \n",
      "Test Accuracy = 0.748858\n"
     ]
    }
   ],
   "source": [
    "evaluator = MulticlassClassificationEvaluator(\n",
    "   labelCol=\"label\", predictionCol=\"prediction\", metricName=\"accuracy\")\n",
    "\n",
    "accuracy = evaluator.evaluate(prediction)\n",
    "print(\"Test Error = %g \" % (1.0 - accuracy))\n",
    "print(\"Test Accuracy = %g\" % accuracy)"
   ]
  }
 ],
 "metadata": {
  "kernelspec": {
   "display_name": "Python 3",
   "language": "python",
   "name": "python3"
  },
  "language_info": {
   "codemirror_mode": {
    "name": "ipython",
    "version": 3
   },
   "file_extension": ".py",
   "mimetype": "text/x-python",
   "name": "python",
   "nbconvert_exporter": "python",
   "pygments_lexer": "ipython3",
   "version": "3.6.4"
  }
 },
 "nbformat": 4,
 "nbformat_minor": 2
}
